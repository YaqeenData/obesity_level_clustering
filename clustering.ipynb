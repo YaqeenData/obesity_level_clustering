{
 "cells": [
  {
   "cell_type": "markdown",
   "id": "a71917c6",
   "metadata": {},
   "source": [
    "<center><h1>Obesity Level Clustering </h1></center>\n"
   ]
  },
  {
   "cell_type": "markdown",
   "id": "c674ff3a",
   "metadata": {},
   "source": [
    "<div style=\"text-align: center;\">\n",
    "  <img src=\"assets/obesity.jpg\" width=\"40%\">\n",
    "</div>"
   ]
  },
  {
   "cell_type": "markdown",
   "id": "7094406c",
   "metadata": {},
   "source": [
    "According to the National Institutes of Health (NIH), overweight and obesity may increase your risk of many health problems, including type 2 diabetes, high blood pressure, and heart disease.\n",
    "<br>\n",
    "This clustering project is built as part of the IBM Machine Learning Professional Certificate. It is only for educational purposes, <b>NOT</b> for medical use."
   ]
  },
  {
   "cell_type": "markdown",
   "id": "5e629701",
   "metadata": {},
   "source": [
    "## Dataset Description"
   ]
  },
  {
   "cell_type": "markdown",
   "id": "dd9bb2e0",
   "metadata": {},
   "source": [
    "This dataset is retrived from UC Irvine Machine Learning Repository on the following link: https://archive.ics.uci.edu/dataset/544/estimation+of+obesity+levels+based+on+eating+habits+and+physical+condition"
   ]
  },
  {
   "cell_type": "markdown",
   "id": "8badd4eb",
   "metadata": {},
   "source": [
    "This dataset include data for the estimation of obesity levels in individuals from the countries of Mexico, Peru and Colombia, based on their eating habits and physical condition. 77% of the data was generated synthetically using the Weka tool and the SMOTE filter, 23% of the data was collected directly from users through a web platform."
   ]
  },
  {
   "cell_type": "markdown",
   "id": "24229998",
   "metadata": {},
   "source": [
    "### Features Description"
   ]
  },
  {
   "cell_type": "code",
   "execution_count": 11,
   "id": "531e30de",
   "metadata": {},
   "outputs": [],
   "source": [
    "import pandas as pd\n",
    "import numpy as np\n",
    "import matplotlib.pyplot as plt\n",
    "import seaborn as sns\n",
    "from sklearn.cluster import k_means, DBSCAN"
   ]
  },
  {
   "cell_type": "code",
   "execution_count": 2,
   "id": "c2b38828",
   "metadata": {},
   "outputs": [],
   "source": [
    "df = pd.read_csv('ObesityDataSet_raw_and_data_sinthetic.csv')"
   ]
  }
 ],
 "metadata": {
  "kernelspec": {
   "display_name": "base",
   "language": "python",
   "name": "python3"
  },
  "language_info": {
   "codemirror_mode": {
    "name": "ipython",
    "version": 3
   },
   "file_extension": ".py",
   "mimetype": "text/x-python",
   "name": "python",
   "nbconvert_exporter": "python",
   "pygments_lexer": "ipython3",
   "version": "3.11.4"
  }
 },
 "nbformat": 4,
 "nbformat_minor": 5
}
